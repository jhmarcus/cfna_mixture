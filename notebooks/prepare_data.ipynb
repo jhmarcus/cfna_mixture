{
 "cells": [
  {
   "cell_type": "markdown",
   "metadata": {},
   "source": [
    "# Prepare data"
   ]
  },
  {
   "cell_type": "markdown",
   "metadata": {},
   "source": [
    "*By Joe Marcus*"
   ]
  },
  {
   "cell_type": "markdown",
   "metadata": {},
   "source": [
    "Here I prepare two dataset for gom. For both datasets we use a set of ~16K genes defined in Dey et al. 2017 that pass QC filters ...\n",
    "\n",
    "* *Dataset 1* - cell-free RNA data for 48 samples from Koh et al. 2017\n",
    "* *Dataset 2* - the intersection of these 48 samples with ~10k individuals from GTEx"
   ]
  },
  {
   "cell_type": "markdown",
   "metadata": {},
   "source": [
    "## Configuration"
   ]
  },
  {
   "cell_type": "code",
   "execution_count": 1,
   "metadata": {
    "collapsed": true
   },
   "outputs": [],
   "source": [
    "suppressMessages(library(data.table))\n",
    "suppressMessages(library(readr))\n",
    "suppressMessages(library(dplyr))\n",
    "suppressMessages(library(SummarizedExperiment))"
   ]
  },
  {
   "cell_type": "markdown",
   "metadata": {},
   "source": [
    "## Paths"
   ]
  },
  {
   "cell_type": "code",
   "execution_count": 52,
   "metadata": {
    "collapsed": true
   },
   "outputs": [],
   "source": [
    "mod_cfrna_path <- '/project/jnovembre/data/external_public/mod_cfrna'\n",
    "koh_meta_path <- paste0(mod_cfrna_path, '/koh_et_al_2014/koh_et_al_covariates.csv')\n",
    "gtex_meta_path <- paste0(mod_cfrna_path, '/gtex/SRP012682.tsv')\n",
    "\n",
    "meta_path <- '../output/meta/koh_gtex_meta.rds'\n",
    "koh_count_path <- '../output/counts/koh_count_dey_genes.rds'\n",
    "koh_gtex_count_path <- '../output/counts/koh_gtex_count_dey_genes.rds'"
   ]
  },
  {
   "cell_type": "markdown",
   "metadata": {},
   "source": [
    "## Genes"
   ]
  },
  {
   "cell_type": "markdown",
   "metadata": {},
   "source": [
    "Gene table as defined by `recount2`"
   ]
  },
  {
   "cell_type": "code",
   "execution_count": 3,
   "metadata": {},
   "outputs": [
    {
     "data": {
      "text/plain": [
       "GRanges object with 58037 ranges and 3 metadata columns:\n",
       "                     seqnames                 ranges strand |\n",
       "                        <Rle>              <IRanges>  <Rle> |\n",
       "  ENSG00000000003.14     chrX [100627109, 100639991]      - |\n",
       "   ENSG00000000005.5     chrX [100584802, 100599885]      + |\n",
       "  ENSG00000000419.12    chr20 [ 50934867,  50958555]      - |\n",
       "  ENSG00000000457.13     chr1 [169849631, 169894267]      - |\n",
       "  ENSG00000000460.16     chr1 [169662007, 169854080]      + |\n",
       "                 ...      ...                    ...    ... .\n",
       "   ENSG00000283695.1    chr19 [ 52865369,  52865429]      - |\n",
       "   ENSG00000283696.1     chr1 [161399409, 161422424]      + |\n",
       "   ENSG00000283697.1     chrX [149548210, 149549852]      - |\n",
       "   ENSG00000283698.1     chr2 [112439312, 112469687]      - |\n",
       "   ENSG00000283699.1    chr10 [ 12653138,  12653197]      - |\n",
       "                                gene_id bp_length          symbol\n",
       "                            <character> <integer> <CharacterList>\n",
       "  ENSG00000000003.14 ENSG00000000003.14      4535          TSPAN6\n",
       "   ENSG00000000005.5  ENSG00000000005.5      1610            TNMD\n",
       "  ENSG00000000419.12 ENSG00000000419.12      1207            DPM1\n",
       "  ENSG00000000457.13 ENSG00000000457.13      6883           SCYL3\n",
       "  ENSG00000000460.16 ENSG00000000460.16      5967        C1orf112\n",
       "                 ...                ...       ...             ...\n",
       "   ENSG00000283695.1  ENSG00000283695.1        61              NA\n",
       "   ENSG00000283696.1  ENSG00000283696.1       997              NA\n",
       "   ENSG00000283697.1  ENSG00000283697.1      1184    LOC101928917\n",
       "   ENSG00000283698.1  ENSG00000283698.1       940              NA\n",
       "   ENSG00000283699.1  ENSG00000283699.1        60         MIR4481\n",
       "  -------\n",
       "  seqinfo: 25 sequences (1 circular) from an unspecified genome; no seqlengths"
      ]
     },
     "metadata": {},
     "output_type": "display_data"
    }
   ],
   "source": [
    "rse_genes_obj <- load(paste0(mod_cfrna_path, '/koh_et_al_2014/rse_gene.Rdata'))\n",
    "rse_genes <- get(rse_genes_obj)\n",
    "rowRanges(rse_genes)"
   ]
  },
  {
   "cell_type": "markdown",
   "metadata": {},
   "source": [
    "remove \".\" to intersect with Dey et al. gene ids ..."
   ]
  },
  {
   "cell_type": "code",
   "execution_count": 4,
   "metadata": {},
   "outputs": [
    {
     "data": {
      "text/html": [
       "<ol class=list-inline>\n",
       "\t<li>'ENSG00000000003'</li>\n",
       "\t<li>'ENSG00000000005'</li>\n",
       "\t<li>'ENSG00000000419'</li>\n",
       "\t<li>'ENSG00000000457'</li>\n",
       "\t<li>'ENSG00000000460'</li>\n",
       "\t<li>'ENSG00000000938'</li>\n",
       "</ol>\n"
      ],
      "text/latex": [
       "\\begin{enumerate*}\n",
       "\\item 'ENSG00000000003'\n",
       "\\item 'ENSG00000000005'\n",
       "\\item 'ENSG00000000419'\n",
       "\\item 'ENSG00000000457'\n",
       "\\item 'ENSG00000000460'\n",
       "\\item 'ENSG00000000938'\n",
       "\\end{enumerate*}\n"
      ],
      "text/markdown": [
       "1. 'ENSG00000000003'\n",
       "2. 'ENSG00000000005'\n",
       "3. 'ENSG00000000419'\n",
       "4. 'ENSG00000000457'\n",
       "5. 'ENSG00000000460'\n",
       "6. 'ENSG00000000938'\n",
       "\n",
       "\n"
      ],
      "text/plain": [
       "[1] \"ENSG00000000003\" \"ENSG00000000005\" \"ENSG00000000419\" \"ENSG00000000457\"\n",
       "[5] \"ENSG00000000460\" \"ENSG00000000938\""
      ]
     },
     "metadata": {},
     "output_type": "display_data"
    },
    {
     "data": {
      "text/html": [
       "58037"
      ],
      "text/latex": [
       "58037"
      ],
      "text/markdown": [
       "58037"
      ],
      "text/plain": [
       "[1] 58037"
      ]
     },
     "metadata": {},
     "output_type": "display_data"
    },
    {
     "data": {
      "text/html": [
       "433"
      ],
      "text/latex": [
       "433"
      ],
      "text/markdown": [
       "433"
      ],
      "text/plain": [
       "[1] 433"
      ]
     },
     "metadata": {},
     "output_type": "display_data"
    }
   ],
   "source": [
    "gene_ids <- gsub('\\\\..*', '', rowRanges(rse_gene)$gene_id)\n",
    "gene_symbols <- unname(as.vector(rowRanges(rse_gene)$symbol))\n",
    "rb_mt_idx <- which(!is.na(match(substring(gene_symbols, 1, 2), c(\"RP\", \"MT\", \"RN\"))))\n",
    "rb_mt_ids <- gene_ids[rb_mt_idx]\n",
    "\n",
    "head(gene_ids)\n",
    "length(gene_ids)\n",
    "length(rb_mt_ids)"
   ]
  },
  {
   "cell_type": "markdown",
   "metadata": {},
   "source": [
    "### Dey et al. genes"
   ]
  },
  {
   "cell_type": "markdown",
   "metadata": {},
   "source": [
    "> We analyzed 16,069 genes that satisfied filters (e.g. exceeding certain minimum expression levels) that were used during eQTL analyses by the GTEx project"
   ]
  },
  {
   "cell_type": "code",
   "execution_count": 5,
   "metadata": {},
   "outputs": [
    {
     "data": {
      "text/html": [
       "<ol class=list-inline>\n",
       "\t<li>'ENSG00000000419'</li>\n",
       "\t<li>'ENSG00000000457'</li>\n",
       "\t<li>'ENSG00000000460'</li>\n",
       "\t<li>'ENSG00000000938'</li>\n",
       "\t<li>'ENSG00000000971'</li>\n",
       "\t<li>'ENSG00000001036'</li>\n",
       "</ol>\n"
      ],
      "text/latex": [
       "\\begin{enumerate*}\n",
       "\\item 'ENSG00000000419'\n",
       "\\item 'ENSG00000000457'\n",
       "\\item 'ENSG00000000460'\n",
       "\\item 'ENSG00000000938'\n",
       "\\item 'ENSG00000000971'\n",
       "\\item 'ENSG00000001036'\n",
       "\\end{enumerate*}\n"
      ],
      "text/markdown": [
       "1. 'ENSG00000000419'\n",
       "2. 'ENSG00000000457'\n",
       "3. 'ENSG00000000460'\n",
       "4. 'ENSG00000000938'\n",
       "5. 'ENSG00000000971'\n",
       "6. 'ENSG00000001036'\n",
       "\n",
       "\n"
      ],
      "text/plain": [
       "[1] \"ENSG00000000419\" \"ENSG00000000457\" \"ENSG00000000460\" \"ENSG00000000938\"\n",
       "[5] \"ENSG00000000971\" \"ENSG00000001036\""
      ]
     },
     "metadata": {},
     "output_type": "display_data"
    },
    {
     "data": {
      "text/html": [
       "16069"
      ],
      "text/latex": [
       "16069"
      ],
      "text/markdown": [
       "16069"
      ],
      "text/plain": [
       "[1] 16069"
      ]
     },
     "metadata": {},
     "output_type": "display_data"
    }
   ],
   "source": [
    "gtex_fil_genes <- read.table(paste0(mod_cfrna_path, '/gtex/gene_names_GTEX_V6.txt'), \n",
    "                             header=TRUE, stringsAsFactors=FALSE)$cis_gene_names\n",
    "gtex_fil_genes <- gsub('\\\\..*', '', gtex_fil_genes)\n",
    "\n",
    "head(gtex_fil_genes)\n",
    "length(gtex_fil_genes)"
   ]
  },
  {
   "cell_type": "markdown",
   "metadata": {},
   "source": [
    "remove ribosomal and mt rnas which are highly expressed and could add a lot of noise ..."
   ]
  },
  {
   "cell_type": "code",
   "execution_count": 6,
   "metadata": {},
   "outputs": [
    {
     "data": {
      "text/html": [
       "<ol class=list-inline>\n",
       "\t<li>'ENSG00000000419'</li>\n",
       "\t<li>'ENSG00000000457'</li>\n",
       "\t<li>'ENSG00000000460'</li>\n",
       "\t<li>'ENSG00000000938'</li>\n",
       "\t<li>'ENSG00000000971'</li>\n",
       "\t<li>'ENSG00000001036'</li>\n",
       "</ol>\n"
      ],
      "text/latex": [
       "\\begin{enumerate*}\n",
       "\\item 'ENSG00000000419'\n",
       "\\item 'ENSG00000000457'\n",
       "\\item 'ENSG00000000460'\n",
       "\\item 'ENSG00000000938'\n",
       "\\item 'ENSG00000000971'\n",
       "\\item 'ENSG00000001036'\n",
       "\\end{enumerate*}\n"
      ],
      "text/markdown": [
       "1. 'ENSG00000000419'\n",
       "2. 'ENSG00000000457'\n",
       "3. 'ENSG00000000460'\n",
       "4. 'ENSG00000000938'\n",
       "5. 'ENSG00000000971'\n",
       "6. 'ENSG00000001036'\n",
       "\n",
       "\n"
      ],
      "text/plain": [
       "[1] \"ENSG00000000419\" \"ENSG00000000457\" \"ENSG00000000460\" \"ENSG00000000938\"\n",
       "[5] \"ENSG00000000971\" \"ENSG00000001036\""
      ]
     },
     "metadata": {},
     "output_type": "display_data"
    },
    {
     "data": {
      "text/html": [
       "15799"
      ],
      "text/latex": [
       "15799"
      ],
      "text/markdown": [
       "15799"
      ],
      "text/plain": [
       "[1] 15799"
      ]
     },
     "metadata": {},
     "output_type": "display_data"
    }
   ],
   "source": [
    "gtex_fil_genes <- gtex_fil_genes[!(gtex_fil_genes %in% rb_mt_ids)]\n",
    "\n",
    "head(gtex_fil_genes)\n",
    "length(gtex_fil_genes)"
   ]
  },
  {
   "cell_type": "markdown",
   "metadata": {},
   "source": [
    "This removed about ~300 genes"
   ]
  },
  {
   "cell_type": "markdown",
   "metadata": {},
   "source": [
    "## Count data"
   ]
  },
  {
   "cell_type": "markdown",
   "metadata": {},
   "source": [
    "Data downloaded from `recount2`"
   ]
  },
  {
   "cell_type": "markdown",
   "metadata": {},
   "source": [
    "### Koh et al. 2014"
   ]
  },
  {
   "cell_type": "code",
   "execution_count": 7,
   "metadata": {
    "scrolled": true
   },
   "outputs": [
    {
     "data": {
      "text/html": [
       "<ol class=list-inline>\n",
       "\t<li>58037</li>\n",
       "\t<li>48</li>\n",
       "</ol>\n"
      ],
      "text/latex": [
       "\\begin{enumerate*}\n",
       "\\item 58037\n",
       "\\item 48\n",
       "\\end{enumerate*}\n"
      ],
      "text/markdown": [
       "1. 58037\n",
       "2. 48\n",
       "\n",
       "\n"
      ],
      "text/plain": [
       "[1] 58037    48"
      ]
     },
     "metadata": {},
     "output_type": "display_data"
    }
   ],
   "source": [
    "koh_count_mat <- as.matrix(fread(paste0(mod_cfrna_path, '/koh_et_al_2014/counts_gene.tsv')))\n",
    "rownames(koh_count_mat) <- gene_ids\n",
    "dim(koh_count_mat)"
   ]
  },
  {
   "cell_type": "markdown",
   "metadata": {},
   "source": [
    "Lets keep only the genes that are in the filtered set defined by Dey et al. 2017 ..."
   ]
  },
  {
   "cell_type": "code",
   "execution_count": 8,
   "metadata": {},
   "outputs": [
    {
     "data": {
      "text/html": [
       "<ol class=list-inline>\n",
       "\t<li>15322</li>\n",
       "\t<li>48</li>\n",
       "</ol>\n"
      ],
      "text/latex": [
       "\\begin{enumerate*}\n",
       "\\item 15322\n",
       "\\item 48\n",
       "\\end{enumerate*}\n"
      ],
      "text/markdown": [
       "1. 15322\n",
       "2. 48\n",
       "\n",
       "\n"
      ],
      "text/plain": [
       "[1] 15322    48"
      ]
     },
     "metadata": {},
     "output_type": "display_data"
    }
   ],
   "source": [
    "koh_count_mat <- koh_count_mat[rownames(koh_count_mat) %in% gtex_fil_genes, ]\n",
    "dim(koh_count_mat)"
   ]
  },
  {
   "cell_type": "markdown",
   "metadata": {},
   "source": [
    "*???some genes in the Dey et al. set are missing from Koh et al and not sure why???*"
   ]
  },
  {
   "cell_type": "markdown",
   "metadata": {},
   "source": [
    "### GTEx"
   ]
  },
  {
   "cell_type": "code",
   "execution_count": 9,
   "metadata": {},
   "outputs": [
    {
     "name": "stdout",
     "output_type": "stream",
     "text": [
      "\r",
      "Read 0.0% of 58037 rows\r",
      "Read 17.2% of 58037 rows\r",
      "Read 34.5% of 58037 rows\r",
      "Read 51.7% of 58037 rows\r",
      "Read 68.9% of 58037 rows\r",
      "Read 86.2% of 58037 rows\r",
      "Read 58037 rows and 9662 (of 9662) columns from 2.146 GB file in 00:00:55\n"
     ]
    }
   ],
   "source": [
    "gtex_count_mat <- as.matrix(fread(paste0(mod_cfrna_path, '/gtex/counts_gene.tsv')))"
   ]
  },
  {
   "cell_type": "code",
   "execution_count": 10,
   "metadata": {},
   "outputs": [
    {
     "data": {
      "text/html": [
       "<ol class=list-inline>\n",
       "\t<li>58037</li>\n",
       "\t<li>9662</li>\n",
       "</ol>\n"
      ],
      "text/latex": [
       "\\begin{enumerate*}\n",
       "\\item 58037\n",
       "\\item 9662\n",
       "\\end{enumerate*}\n"
      ],
      "text/markdown": [
       "1. 58037\n",
       "2. 9662\n",
       "\n",
       "\n"
      ],
      "text/plain": [
       "[1] 58037  9662"
      ]
     },
     "metadata": {},
     "output_type": "display_data"
    }
   ],
   "source": [
    "rownames(gtex_count_mat) <- gene_ids\n",
    "dim(gtex_count_mat)"
   ]
  },
  {
   "cell_type": "code",
   "execution_count": 11,
   "metadata": {},
   "outputs": [
    {
     "data": {
      "text/html": [
       "<ol class=list-inline>\n",
       "\t<li>15322</li>\n",
       "\t<li>9662</li>\n",
       "</ol>\n"
      ],
      "text/latex": [
       "\\begin{enumerate*}\n",
       "\\item 15322\n",
       "\\item 9662\n",
       "\\end{enumerate*}\n"
      ],
      "text/markdown": [
       "1. 15322\n",
       "2. 9662\n",
       "\n",
       "\n"
      ],
      "text/plain": [
       "[1] 15322  9662"
      ]
     },
     "metadata": {},
     "output_type": "display_data"
    }
   ],
   "source": [
    "gtex_count_mat <- gtex_count_mat[rownames(gtex_count_mat) %in% rownames(koh_count_mat), ]\n",
    "dim(gtex_count_mat)"
   ]
  },
  {
   "cell_type": "markdown",
   "metadata": {},
   "source": [
    "bind the columns of the Koh et al counts and GTEx counts to create a single dataset ..."
   ]
  },
  {
   "cell_type": "code",
   "execution_count": 12,
   "metadata": {
    "scrolled": true
   },
   "outputs": [
    {
     "data": {
      "text/html": [
       "<ol class=list-inline>\n",
       "\t<li>15322</li>\n",
       "\t<li>9710</li>\n",
       "</ol>\n"
      ],
      "text/latex": [
       "\\begin{enumerate*}\n",
       "\\item 15322\n",
       "\\item 9710\n",
       "\\end{enumerate*}\n"
      ],
      "text/markdown": [
       "1. 15322\n",
       "2. 9710\n",
       "\n",
       "\n"
      ],
      "text/plain": [
       "[1] 15322  9710"
      ]
     },
     "metadata": {},
     "output_type": "display_data"
    }
   ],
   "source": [
    "koh_gtex_count_mat <- cbind(gtex_count_mat, koh_count_mat[rownames(gtex_count_mat),])\n",
    "dim(koh_gtex_count_mat)"
   ]
  },
  {
   "cell_type": "markdown",
   "metadata": {},
   "source": [
    "## Meta data"
   ]
  },
  {
   "cell_type": "code",
   "execution_count": 51,
   "metadata": {},
   "outputs": [
    {
     "name": "stderr",
     "output_type": "stream",
     "text": [
      "Parsed with column specification:\n",
      "cols(\n",
      "  id = col_character(),\n",
      "  run_id = col_character(),\n",
      "  iid = col_character(),\n",
      "  label = col_character()\n",
      ")\n",
      "Parsed with column specification:\n",
      "cols(\n",
      "  .default = col_integer(),\n",
      "  project = col_character(),\n",
      "  sample = col_character(),\n",
      "  experiment = col_character(),\n",
      "  run = col_character(),\n",
      "  proportion_of_reads_reported_by_sra_downloaded = col_double(),\n",
      "  paired_end = col_logical(),\n",
      "  sra_misreported_paired_end = col_logical(),\n",
      "  auc = col_double(),\n",
      "  sharq_beta_tissue = col_character(),\n",
      "  sharq_beta_cell_type = col_character(),\n",
      "  biosample_submission_date = col_character(),\n",
      "  biosample_publication_date = col_character(),\n",
      "  biosample_update_date = col_character(),\n",
      "  geo_accession = col_character(),\n",
      "  bigwig_file = col_character(),\n",
      "  sampid = col_character(),\n",
      "  smcenter = col_character(),\n",
      "  smpthnts = col_character(),\n",
      "  smrin = col_double(),\n",
      "  smts = col_character()\n",
      "  # ... with 33 more columns\n",
      ")\n",
      "See spec(...) for full column specifications.\n"
     ]
    },
    {
     "data": {
      "text/html": [
       "<table>\n",
       "<thead><tr><th scope=col>id</th><th scope=col>run_id</th><th scope=col>iid</th><th scope=col>label</th></tr></thead>\n",
       "<tbody>\n",
       "\t<tr><td>SRX550521   </td><td>SRR1296083  </td><td>Control 4   </td><td>Not pregnant</td></tr>\n",
       "\t<tr><td>SRX550520   </td><td>SRR1296082  </td><td>Control 3   </td><td>Not pregnant</td></tr>\n",
       "\t<tr><td>SRX550519   </td><td>SRR1296081  </td><td>Control 2   </td><td>Not pregnant</td></tr>\n",
       "\t<tr><td>SRX550518   </td><td>SRR1296080  </td><td>Control 1   </td><td>Not pregnant</td></tr>\n",
       "\t<tr><td>SRX550500   </td><td>SRR1296062  </td><td>Patient 36  </td><td>Trimester 3 </td></tr>\n",
       "\t<tr><td>SRX550493   </td><td>SRR1296055  </td><td>Patient 32  </td><td>Post-Partum </td></tr>\n",
       "</tbody>\n",
       "</table>\n"
      ],
      "text/latex": [
       "\\begin{tabular}{r|llll}\n",
       " id & run\\_id & iid & label\\\\\n",
       "\\hline\n",
       "\t SRX550521    & SRR1296083   & Control 4    & Not pregnant\\\\\n",
       "\t SRX550520    & SRR1296082   & Control 3    & Not pregnant\\\\\n",
       "\t SRX550519    & SRR1296081   & Control 2    & Not pregnant\\\\\n",
       "\t SRX550518    & SRR1296080   & Control 1    & Not pregnant\\\\\n",
       "\t SRX550500    & SRR1296062   & Patient 36   & Trimester 3 \\\\\n",
       "\t SRX550493    & SRR1296055   & Patient 32   & Post-Partum \\\\\n",
       "\\end{tabular}\n"
      ],
      "text/markdown": [
       "\n",
       "id | run_id | iid | label | \n",
       "|---|---|---|---|---|---|\n",
       "| SRX550521    | SRR1296083   | Control 4    | Not pregnant | \n",
       "| SRX550520    | SRR1296082   | Control 3    | Not pregnant | \n",
       "| SRX550519    | SRR1296081   | Control 2    | Not pregnant | \n",
       "| SRX550518    | SRR1296080   | Control 1    | Not pregnant | \n",
       "| SRX550500    | SRR1296062   | Patient 36   | Trimester 3  | \n",
       "| SRX550493    | SRR1296055   | Patient 32   | Post-Partum  | \n",
       "\n",
       "\n"
      ],
      "text/plain": [
       "  id        run_id     iid        label       \n",
       "1 SRX550521 SRR1296083 Control 4  Not pregnant\n",
       "2 SRX550520 SRR1296082 Control 3  Not pregnant\n",
       "3 SRX550519 SRR1296081 Control 2  Not pregnant\n",
       "4 SRX550518 SRR1296080 Control 1  Not pregnant\n",
       "5 SRX550500 SRR1296062 Patient 36 Trimester 3 \n",
       "6 SRX550493 SRR1296055 Patient 32 Post-Partum "
      ]
     },
     "metadata": {},
     "output_type": "display_data"
    },
    {
     "data": {
      "text/html": [
       "<table>\n",
       "<thead><tr><th scope=col>id</th><th scope=col>run_id</th><th scope=col>iid</th><th scope=col>label</th></tr></thead>\n",
       "<tbody>\n",
       "\t<tr><td>SRX222703                     </td><td>SRR660824                     </td><td>Lung                          </td><td>Lung                          </td></tr>\n",
       "\t<tr><td>SRX1152700                    </td><td>SRR2166176                    </td><td>Brain - Cerebellar Hemisphere </td><td>Brain                         </td></tr>\n",
       "\t<tr><td>SRX199032                     </td><td>SRR606939                     </td><td>Heart - Left Ventricle        </td><td>Heart                         </td></tr>\n",
       "\t<tr><td>SRX1153642                    </td><td>SRR2167642                    </td><td>Brain - Cerebellar Hemisphere </td><td>Brain                         </td></tr>\n",
       "\t<tr><td>SRX1152198                    </td><td>SRR2165473                    </td><td>Skin - Sun Exposed (Lower leg)</td><td>Skin                          </td></tr>\n",
       "\t<tr><td>SRX199539                     </td><td>SRR603858                     </td><td>Lung                          </td><td>Lung                          </td></tr>\n",
       "</tbody>\n",
       "</table>\n"
      ],
      "text/latex": [
       "\\begin{tabular}{r|llll}\n",
       " id & run\\_id & iid & label\\\\\n",
       "\\hline\n",
       "\t SRX222703                      & SRR660824                      & Lung                           & Lung                          \\\\\n",
       "\t SRX1152700                     & SRR2166176                     & Brain - Cerebellar Hemisphere  & Brain                         \\\\\n",
       "\t SRX199032                      & SRR606939                      & Heart - Left Ventricle         & Heart                         \\\\\n",
       "\t SRX1153642                     & SRR2167642                     & Brain - Cerebellar Hemisphere  & Brain                         \\\\\n",
       "\t SRX1152198                     & SRR2165473                     & Skin - Sun Exposed (Lower leg) & Skin                          \\\\\n",
       "\t SRX199539                      & SRR603858                      & Lung                           & Lung                          \\\\\n",
       "\\end{tabular}\n"
      ],
      "text/markdown": [
       "\n",
       "id | run_id | iid | label | \n",
       "|---|---|---|---|---|---|\n",
       "| SRX222703                      | SRR660824                      | Lung                           | Lung                           | \n",
       "| SRX1152700                     | SRR2166176                     | Brain - Cerebellar Hemisphere  | Brain                          | \n",
       "| SRX199032                      | SRR606939                      | Heart - Left Ventricle         | Heart                          | \n",
       "| SRX1153642                     | SRR2167642                     | Brain - Cerebellar Hemisphere  | Brain                          | \n",
       "| SRX1152198                     | SRR2165473                     | Skin - Sun Exposed (Lower leg) | Skin                           | \n",
       "| SRX199539                      | SRR603858                      | Lung                           | Lung                           | \n",
       "\n",
       "\n"
      ],
      "text/plain": [
       "  id         run_id     iid                            label\n",
       "1 SRX222703  SRR660824  Lung                           Lung \n",
       "2 SRX1152700 SRR2166176 Brain - Cerebellar Hemisphere  Brain\n",
       "3 SRX199032  SRR606939  Heart - Left Ventricle         Heart\n",
       "4 SRX1153642 SRR2167642 Brain - Cerebellar Hemisphere  Brain\n",
       "5 SRX1152198 SRR2165473 Skin - Sun Exposed (Lower leg) Skin \n",
       "6 SRX199539  SRR603858  Lung                           Lung "
      ]
     },
     "metadata": {},
     "output_type": "display_data"
    },
    {
     "data": {
      "text/html": [
       "48"
      ],
      "text/latex": [
       "48"
      ],
      "text/markdown": [
       "48"
      ],
      "text/plain": [
       "[1] 48"
      ]
     },
     "metadata": {},
     "output_type": "display_data"
    },
    {
     "data": {
      "text/html": [
       "9662"
      ],
      "text/latex": [
       "9662"
      ],
      "text/markdown": [
       "9662"
      ],
      "text/plain": [
       "[1] 9662"
      ]
     },
     "metadata": {},
     "output_type": "display_data"
    },
    {
     "data": {
      "text/html": [
       "<ol class=list-inline>\n",
       "\t<li>9710</li>\n",
       "\t<li>4</li>\n",
       "</ol>\n"
      ],
      "text/latex": [
       "\\begin{enumerate*}\n",
       "\\item 9710\n",
       "\\item 4\n",
       "\\end{enumerate*}\n"
      ],
      "text/markdown": [
       "1. 9710\n",
       "2. 4\n",
       "\n",
       "\n"
      ],
      "text/plain": [
       "[1] 9710    4"
      ]
     },
     "metadata": {},
     "output_type": "display_data"
    }
   ],
   "source": [
    "koh_meta_df <- read_csv(koh_meta_path)\n",
    "gtex_meta_df <- read_tsv(gtex_meta_path) %>% select(experiment, run, smtsd, smts) \n",
    "colnames(gtex_meta_df) <- c('id', 'run_id', 'iid', 'label')\n",
    "head(koh_meta_df)\n",
    "head(gtex_meta_df)\n",
    "nrow(koh_meta_df)\n",
    "nrow(gtex_meta_df)\n",
    "\n",
    "koh_gtex_meta_df <- bind_rows(koh_meta_df, gtex_meta_df)\n",
    "dim(koh_gtex_meta_df)"
   ]
  },
  {
   "cell_type": "markdown",
   "metadata": {},
   "source": [
    "## Save meta data"
   ]
  },
  {
   "cell_type": "code",
   "execution_count": 53,
   "metadata": {
    "collapsed": true
   },
   "outputs": [],
   "source": [
    "saveRDS(koh_gtex_meta_df, meta_path)"
   ]
  },
  {
   "cell_type": "markdown",
   "metadata": {},
   "source": [
    "## Save count matricies"
   ]
  },
  {
   "cell_type": "markdown",
   "metadata": {},
   "source": [
    "*Dataset 1*"
   ]
  },
  {
   "cell_type": "code",
   "execution_count": 13,
   "metadata": {
    "collapsed": true
   },
   "outputs": [],
   "source": [
    "saveRDS(koh_count_mat, koh_count_path)"
   ]
  },
  {
   "cell_type": "markdown",
   "metadata": {},
   "source": [
    "*Dataset 2*"
   ]
  },
  {
   "cell_type": "code",
   "execution_count": 14,
   "metadata": {
    "collapsed": true
   },
   "outputs": [],
   "source": [
    "saveRDS(koh_gtex_count_mat, koh_gtex_count_path)"
   ]
  }
 ],
 "metadata": {
  "kernelspec": {
   "display_name": "R",
   "language": "R",
   "name": "ir"
  },
  "language_info": {
   "codemirror_mode": "r",
   "file_extension": ".r",
   "mimetype": "text/x-r-source",
   "name": "R",
   "pygments_lexer": "r",
   "version": "3.4.1"
  }
 },
 "nbformat": 4,
 "nbformat_minor": 2
}
